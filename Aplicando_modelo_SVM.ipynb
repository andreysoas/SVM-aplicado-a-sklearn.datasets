{
  "nbformat": 4,
  "nbformat_minor": 0,
  "metadata": {
    "colab": {
      "name": "Aplicando modelo SVM.ipynb",
      "provenance": [],
      "collapsed_sections": [],
      "authorship_tag": "ABX9TyOcr7njx3HcFNNaFpIdKHZe"
    },
    "kernelspec": {
      "name": "python3",
      "display_name": "Python 3"
    },
    "language_info": {
      "name": "python"
    }
  },
  "cells": [
    {
      "cell_type": "code",
      "execution_count": 465,
      "metadata": {
        "id": "KxUpMuFfpbZa"
      },
      "outputs": [],
      "source": [
        "import pandas as pd\n",
        "\n",
        "from sklearn.model_selection import train_test_split\n",
        "from sklearn.preprocessing import StandardScaler\n",
        "from sklearn.metrics import classification_report, plot_confusion_matrix\n",
        "from sklearn.svm import SVC\n",
        "\n",
        "from math import sqrt,fabs\n",
        "import numpy as np"
      ]
    },
    {
      "cell_type": "code",
      "source": [
        "from sklearn import datasets"
      ],
      "metadata": {
        "id": "cXqD7GOBp4aP"
      },
      "execution_count": 467,
      "outputs": []
    },
    {
      "cell_type": "code",
      "source": [
        "def RMSE(y_teste:np.ndarray,y_previsto:np.ndarray):\n",
        "  n = y_teste.shape[0]\n",
        "  rmse = sqrt( (((y_teste-y_previsto)**2).sum()/n) )\n",
        "\n",
        "  return rmse\n",
        "\n",
        "def MAE(y_teste:np.ndarray,y_previsto:np.ndarray):\n",
        "  n = y_teste.shape[0]\n",
        "  dif = y_teste-y_previsto\n",
        "\n",
        "  value = 0\n",
        "  for i in range(dif.shape[0]):\n",
        "    value+=fabs(dif[i])\n",
        "  mae = value/n\n",
        "\n",
        "  return mae\n",
        "\n",
        "def Score(y_teste:np.ndarray,previsao:np.ndarray):\n",
        "  n = y_teste.shape[0]\n",
        "  dif = y_teste==previsao\n",
        "\n",
        "  for i in range(dif.shape[0]):\n",
        "    if dif[i]: dif[i] = 1\n",
        "\n",
        "  score = dif.sum()/n\n",
        "\n",
        "  return score\n",
        "\n",
        "\n",
        "class SVM:\n",
        "\n",
        "  def __init__(self,num_iter:int):\n",
        "    self.num_iter = num_iter\n",
        "    self.modelSVM = None\n",
        "    self.scaler = None\n",
        "  \n",
        "  def tableMetrics(self,mae,rmse,score):\n",
        "    dataset = pd.DataFrame({'MAE':[mae],'RMSE':[rmse],'Score':[score]})\n",
        "    return dataset\n",
        "\n",
        "  def treino(self, X_treino:np.ndarray, y_treino:np.ndarray):\n",
        "    self.scaler = StandardScaler().fit(X_treino)\n",
        "    X_treino_standard = self.scaler.transform(X_treino)\n",
        "    self.modelSVM = SVC(max_iter=self.num_iter)\n",
        "    self.modelSVM.fit(X_treino_standard,y_treino)\n",
        "\n",
        "  def prediction(self,X_teste):\n",
        "    X_teste_standard = self.scaler.transform(X_teste)\n",
        "    previsoes = self.modelSVM.predict(X_teste_standard)\n",
        "    return previsoes\n",
        "\n",
        "  def metrics(self,y_teste:np.ndarray,previsoes:np.ndarray):\n",
        "    mae = MAE(y_teste,previsoes)\n",
        "    rmse = RMSE(y_teste,previsoes)\n",
        "    score = Score(y_teste,previsoes)\n",
        "\n",
        "    return self.tableMetrics(mae,rmse,score)"
      ],
      "metadata": {
        "id": "tccJk3s20Jfz"
      },
      "execution_count": 466,
      "outputs": []
    },
    {
      "cell_type": "markdown",
      "source": [
        "#Teste com dataset \"Iris\""
      ],
      "metadata": {
        "id": "2H-2zHk7KMss"
      }
    },
    {
      "cell_type": "code",
      "source": [
        "data = datasets.load_iris()"
      ],
      "metadata": {
        "id": "SPkUo-BIJikW"
      },
      "execution_count": 415,
      "outputs": []
    },
    {
      "cell_type": "code",
      "source": [
        "X = data.data\n",
        "y = data.target"
      ],
      "metadata": {
        "id": "RbV9vWK4Jr_X"
      },
      "execution_count": 416,
      "outputs": []
    },
    {
      "cell_type": "markdown",
      "source": [
        "\"Hold out\" para dividir os dados em treino e teste"
      ],
      "metadata": {
        "id": "EzBLpNqPx2-N"
      }
    },
    {
      "cell_type": "code",
      "source": [
        "X_treino,X_teste,y_treino,y_teste = train_test_split(X,\n",
        "                                                     y,\n",
        "                                                     test_size = 0.3,\n",
        "                                                     random_state=0)"
      ],
      "metadata": {
        "id": "rm83HrJ-JzNF"
      },
      "execution_count": 417,
      "outputs": []
    },
    {
      "cell_type": "code",
      "source": [
        "svm = SVM(200)\n",
        "\n",
        "svm.treino(X_treino,y_treino)\n",
        "previsoes = svm.prediction(X_teste)\n",
        "\n",
        "print(svm.metrics(y_teste,previsoes))"
      ],
      "metadata": {
        "colab": {
          "base_uri": "https://localhost:8080/"
        },
        "id": "9bg8rX-T_tGq",
        "outputId": "922154dc-314b-4daa-f4b6-8e89adaab07b"
      },
      "execution_count": 418,
      "outputs": [
        {
          "output_type": "stream",
          "name": "stdout",
          "text": [
            "        MAE      RMSE     Score\n",
            "0  0.022222  0.149071  0.977778\n"
          ]
        }
      ]
    },
    {
      "cell_type": "markdown",
      "source": [
        "#Teste com dataset \"breast_cancer\""
      ],
      "metadata": {
        "id": "DMWmUTyQkR1q"
      }
    },
    {
      "cell_type": "code",
      "source": [
        "data = datasets.load_breast_cancer()"
      ],
      "metadata": {
        "id": "z9M__A9qkUOD"
      },
      "execution_count": 460,
      "outputs": []
    },
    {
      "cell_type": "code",
      "source": [
        "X = data.data\n",
        "y = data.target"
      ],
      "metadata": {
        "id": "vJsc2Gavkixf"
      },
      "execution_count": 461,
      "outputs": []
    },
    {
      "cell_type": "markdown",
      "source": [
        "\"Hold out\" para dividir os dados em treino e teste"
      ],
      "metadata": {
        "id": "uiKMnHxwyCV8"
      }
    },
    {
      "cell_type": "code",
      "source": [
        "X_treino,X_teste,y_treino,y_teste = train_test_split(X,\n",
        "                                                     y,\n",
        "                                                     test_size=0.3,\n",
        "                                                     random_state=0)"
      ],
      "metadata": {
        "id": "nmeI8GZZkrmc"
      },
      "execution_count": 462,
      "outputs": []
    },
    {
      "cell_type": "code",
      "source": [
        "svm1 = SVM(200)\n",
        "\n",
        "svm1.treino(X_treino,y_treino)\n",
        "previsoes = svm1.prediction(X_teste)\n",
        "\n",
        "print(svm.metrics(y_teste,previsoes))"
      ],
      "metadata": {
        "colab": {
          "base_uri": "https://localhost:8080/"
        },
        "id": "xF7lquKVk1RA",
        "outputId": "68fbc582-825a-458c-ccd7-a4a8c54419f7"
      },
      "execution_count": 463,
      "outputs": [
        {
          "output_type": "stream",
          "name": "stdout",
          "text": [
            "        MAE      RMSE     Score\n",
            "0  0.023392  0.152944  0.976608\n"
          ]
        }
      ]
    },
    {
      "cell_type": "code",
      "source": [
        "print(classification_report(y_teste, previsoes, labels=[0,1], digits=4))"
      ],
      "metadata": {
        "colab": {
          "base_uri": "https://localhost:8080/"
        },
        "id": "mh2CV6pWlmWu",
        "outputId": "4fd92595-1d40-417b-8d3c-cd26ab4505a9"
      },
      "execution_count": 464,
      "outputs": [
        {
          "output_type": "stream",
          "name": "stdout",
          "text": [
            "              precision    recall  f1-score   support\n",
            "\n",
            "           0     0.9836    0.9524    0.9677        63\n",
            "           1     0.9727    0.9907    0.9817       108\n",
            "\n",
            "    accuracy                         0.9766       171\n",
            "   macro avg     0.9782    0.9716    0.9747       171\n",
            "weighted avg     0.9767    0.9766    0.9765       171\n",
            "\n"
          ]
        }
      ]
    }
  ]
}